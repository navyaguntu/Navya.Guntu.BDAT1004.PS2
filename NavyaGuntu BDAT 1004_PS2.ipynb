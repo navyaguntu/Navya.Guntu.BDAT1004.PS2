{
 "cells": [
  {
   "cell_type": "markdown",
   "id": "b1d08518",
   "metadata": {},
   "source": [
    "#  Problem Set 2 "
   ]
  },
  {
   "cell_type": "markdown",
   "id": "7390cf7c",
   "metadata": {},
   "source": [
    "## Question 1 \n",
    "Consider the following Python module:\n",
    "\n",
    "a = 0\n",
    "\n",
    "def b():\n",
    "\n",
    " global a\n",
    " \n",
    " a = c(a)\n",
    " \n",
    "def c(a):\n",
    "\n",
    " return a + 2\n",
    " \n",
    "After importing the module into the interpreter, you execute:\n",
    "\n",
    "> b()\n",
    "\n",
    "> b()\n",
    "\n",
    "> b()\n",
    "\n",
    "> a\n",
    "?\n",
    "\n",
    "\n",
    "What value is displayed when the last expression (a) is evaluated? Explain your\n",
    "answer by indicating what happens in every executed statement."
   ]
  },
  {
   "cell_type": "markdown",
   "id": "bf67b496",
   "metadata": {},
   "source": [
    "a = 0\n",
    "\n",
    "def b():\n",
    "\n",
    "      global a\n",
    " \n",
    " a = c(a)\n",
    " \n",
    "def c(a):\n",
    "\n",
    "     return a + 2\n",
    " \n",
    "After importing the module into the interpreter, you execute:\n",
    "\n",
    "> b() \n",
    "/// calls function c making the global value 0 + 2, a=2, now since a is a global value which is being assigned the return value 2 the global value changes to 2\n",
    "\n",
    "> b()\n",
    "/// calls function c making the global value 2 + 2, a=4, now since a is a global value which is being assigned the return value 4 the global value changes to 2\n",
    "\n",
    "> b()\n",
    "/// calls function c making the global value 4 + 2, a=6, now since a is a global value which is being assigned the return value 6 the global value changes to 2\n",
    "> a=6"
   ]
  },
  {
   "cell_type": "markdown",
   "id": "41a7f289",
   "metadata": {},
   "source": [
    "## Question 2\n",
    "Function fileLength(), given to you, takes the name of a file as input and returns\n",
    "the length of the file:\n",
    "\n",
    "> fileLength('midterm.py')\n",
    "\n",
    "284\n",
    "> fileLength('idterm.py')\n",
    "\n",
    "Traceback (most recent call last):\n",
    "\n",
    "File \"<pyshell#34>\", line 1, in <module>\n",
    "    \n",
    " fileLength('idterm.py')\n",
    "    \n",
    "File \"/Users/me/midterm.py\", line 3, in fileLength\n",
    "    \n",
    " infile = open(filename)\n",
    "    \n",
    "FileNotFoundError: [Errno 2] No such file or directory:\n",
    "    \n",
    "'idterm.py'\n",
    "    \n",
    "As shown above, if the file cannot be found by the interpreter or if it cannot be read\n",
    "as a text file, an exception will be raised. Modify function fileLength() so that a\n",
    "friendly message is printed instead:\n",
    "    \n",
    ">fileLength('midterm.py')\n",
    "    \n",
    "358\n",
    "> fileLength('idterm.py')\n",
    "    \n",
    "File idterm.py not found.\n"
   ]
  },
  {
   "cell_type": "code",
   "execution_count": 2,
   "id": "401b4196",
   "metadata": {},
   "outputs": [
    {
     "name": "stdout",
     "output_type": "stream",
     "text": [
      "input filename currencies.txt\n",
      "Length of ccontents in file are:\n",
      "477\n"
     ]
    }
   ],
   "source": [
    "def fileLength(file):\n",
    "    try:\n",
    "        infile = open(file)\n",
    "        content = infile.read()\n",
    "        print(\"Length of ccontents in file are:\")\n",
    "        print(len(content)) \n",
    "    except FileNotFoundError:\n",
    "        print(\"File \",file,\" not found.\")\n",
    "        \n",
    "filename=input(\"input filename \")\n",
    "fileLength(filename)        \n",
    "\n"
   ]
  },
  {
   "cell_type": "code",
   "execution_count": 3,
   "id": "5f3b13ac",
   "metadata": {},
   "outputs": [
    {
     "name": "stdout",
     "output_type": "stream",
     "text": [
      "input filenamenew.py\n",
      "File  new.py  not found.\n"
     ]
    }
   ],
   "source": [
    "def fileLength(file):\n",
    "    try:\n",
    "        infile = open(file)\n",
    "        content = infile.read()\n",
    "        print(\"Length of ccontents in file are:\")\n",
    "        print(len(content)) \n",
    "    except FileNotFoundError:\n",
    "        print(\"File \",file,\" not found.\")\n",
    "        \n",
    "filename=input(\"input filename\")\n",
    "fileLength(filename)        \n",
    "\n"
   ]
  },
  {
   "cell_type": "markdown",
   "id": "f5d6beb9",
   "metadata": {},
   "source": [
    "## Question 3\n",
    "Write a class named Marsupial that can be used as shown below:\n",
    "\n",
    "> m = Marsupial()\n",
    "\n",
    "> m.put_in_pouch('doll')\n",
    "\n",
    "> m.put_in_pouch('firetruck')\n",
    "\n",
    "> m.put_in_pouch('kitten')\n",
    "\n",
    "> m.pouch_contents()\n",
    "\n",
    "['doll', 'firetruck', 'kitten']\n",
    "\n",
    "Now write a class named Kangaroo as a subclass of Marsupial that inherits all the\n",
    "attributes of Marsupial and also:\n",
    "\n",
    "a. extends the Marsupial __init__ constructor to take, as input, the\n",
    "coordinates x and y of the Kangaroo object,\n",
    "\n",
    "b. supports method jump that takes number values dx and dy as input and\n",
    "moves the kangaroo by dx units along the x-axis and by dy units along the yaxis, and\n",
    "\n",
    "c. overloads the __str__ operator so it behaves as shown below.\n",
    "\n",
    "> k = Kangaroo(0,0)\n",
    "\n",
    "> print(k)\n",
    "\n",
    "I am a Kangaroo located at coordinates (0,0)\n",
    "\n",
    "> k.put_in_pouch('doll')\n",
    "\n",
    "> k.put_in_pouch('firetruck')\n",
    "\n",
    "> k.put_in_pouch('kitten')\n",
    "\n",
    "> k.pouch_contents()\n",
    "\n",
    "['doll', 'firetruck', 'kitten']\n",
    "\n",
    "> k.jump(1,0)\n",
    "\n",
    "> k.jump(1,0)\n",
    "\n",
    "> k.jump(1,0)\n",
    "\n",
    "> print(k)\n",
    "\n",
    "I am a Kangaroo located at coordinates (3,0)\n",
    "\n"
   ]
  },
  {
   "cell_type": "code",
   "execution_count": 1,
   "id": "b2943805",
   "metadata": {},
   "outputs": [
    {
     "name": "stdout",
     "output_type": "stream",
     "text": [
      "input X co-ordinate of kangaroo 0\n",
      "input y co-ordinate of kangaroo 0\n",
      "I am a Kangaroo located at coordinates (0,0)\n",
      "input number of jumps for kangaroo to jump to 3\n",
      "input X co-ordinate for kangaroo to jump to 1\n",
      "input y co-ordinate for kangaroo to jump to 0\n",
      "input X co-ordinate for kangaroo to jump to 1\n",
      "input y co-ordinate for kangaroo to jump to 0\n",
      "input X co-ordinate for kangaroo to jump to 1\n",
      "input y co-ordinate for kangaroo to jump to 0\n",
      "I am a Kangaroo located at coordinates (3,0)\n"
     ]
    }
   ],
   "source": [
    "class Marsupial:\n",
    "   \n",
    "    'a generic class with one method'\n",
    "    def __init__(self):\n",
    "        self.pouch=[]\n",
    "            \n",
    "    def put_in_pouch(self,value):\n",
    "        self.pouch.append(value)\n",
    "        \n",
    "    def pouch_contents(self):\n",
    "        return self.pouch\n",
    "        \n",
    "class Kangaroo(Marsupial):\n",
    "    \n",
    " \n",
    "    def __init__(self, dx=0, dy=0):\n",
    "        Marsupial.__init__(self)\n",
    "        self.x = dx\n",
    "        self.y = dy\n",
    "                \n",
    "    def jump(self,dx,dy):\n",
    "        self.x+=dx\n",
    "        self.y+=dy\n",
    "        \n",
    "    def __str__(self):\n",
    "        return f'I am a Kangaroo located at coordinates ({self.x},{self.y})'\n",
    "\n",
    "dx=int(input(\"input X co-ordinate of kangaroo \"))\n",
    "dy=int(input(\"input y co-ordinate of kangaroo \"))\n",
    "k = Kangaroo(dx,dy)\n",
    "print(k)\n",
    "\n",
    "n=int(input(\"input number of jumps for kangaroo to jump to \"))\n",
    "if n==0:\n",
    "    print(\"kangaroo will not jump\")\n",
    "else:\n",
    "    while n>0:\n",
    "        x=int(input(\"input X co-ordinate for kangaroo to jump to \"))\n",
    "        y=int(input(\"input y co-ordinate for kangaroo to jump to \"))\n",
    "        k.jump(x,y)\n",
    "        n=n-1\n",
    "    print(k)\n",
    "\n",
    "#reference\n",
    "# https://www.journaldev.com/22460/python-str-repr-functions\n"
   ]
  },
  {
   "cell_type": "markdown",
   "id": "a472c7a2",
   "metadata": {},
   "source": [
    "## Question 4\n",
    "Write function collatz() that takes a positive integer x as input and prints the\n",
    "Collatz sequence starting at x. A Collatz sequence is obtained by repeatedly applying\n",
    "this rule to the previous number x in the sequence:\n",
    "\n",
    "x = {\n",
    "\n",
    "𝑥/2 𝑖𝑓 𝑥 𝑖𝑠 𝑒𝑣𝑒𝑛\n",
    "\n",
    "3𝑥 + 1 𝑖𝑓 𝑥 𝑖𝑠 𝑜𝑑𝑑\n",
    "\n",
    "Your function should stop when the sequence gets to number 1. Your\n",
    "\n",
    "implementation must be recursive, without any loops.\n",
    "\n",
    "> collatz(1)\n",
    "\n",
    "1\n",
    "\n",
    "> collatz(10)\n",
    "\n",
    "10\n",
    "5\n",
    "16\n",
    "8\n",
    "4\n",
    "2\n",
    "1\n"
   ]
  },
  {
   "cell_type": "code",
   "execution_count": 2,
   "id": "912dfc03",
   "metadata": {},
   "outputs": [
    {
     "name": "stdout",
     "output_type": "stream",
     "text": [
      "Input number10\n",
      "10\n",
      "5\n",
      "16\n",
      "8\n",
      "4\n",
      "2\n",
      "1\n"
     ]
    }
   ],
   "source": [
    "def collatz(n):\n",
    "    if n == 1:\n",
    "        print(n)\n",
    "    elif n%2==0:\n",
    "        print(n)\n",
    "        n=int(n/2)\n",
    "      \n",
    "        collatz(n)\n",
    "    else:\n",
    "        print(n)\n",
    "        n=3*n+1\n",
    "       \n",
    "        collatz(n)\n",
    "num=int(input(\"Input number\"))\n",
    "collatz(10)"
   ]
  },
  {
   "cell_type": "markdown",
   "id": "df31f7b4",
   "metadata": {},
   "source": [
    "## Question 5\n",
    "Write a recursive method binary() that takes a non-negative\n",
    "\n",
    "integer n and prints the binary representation of integer n.\n",
    "\n",
    "> binary(0)\n",
    "\n",
    "0\n",
    "> binary(1)\n",
    "\n",
    "1\n",
    "> binary(3)\n",
    "\n",
    "11\n",
    "> binary(9)\n",
    "\n",
    "1001\n"
   ]
  },
  {
   "cell_type": "code",
   "execution_count": 4,
   "id": "8f055bbb",
   "metadata": {},
   "outputs": [
    {
     "name": "stdout",
     "output_type": "stream",
     "text": [
      "input number to convert from decimal to binary9\n",
      "1001"
     ]
    }
   ],
   "source": [
    "\n",
    "def binary(n):\n",
    "   \n",
    "    if n <=1:\n",
    "        print(n,end='')\n",
    "    else:\n",
    "        binary(n//2)\n",
    "        print(n%2,end='')\n",
    "num=int(input(\"input number to convert from decimal to binary\"))\n",
    "binary(num)\n",
    "\n",
    "#reference\n",
    "# https://www.codingem.com/python-print-on-the-same-line/#:~:text=To%20print%20on%20the%20same%20line%20in%20Python%2C%20add%20a,to%20the%20print()%20function.\n",
    "\n",
    "      "
   ]
  },
  {
   "cell_type": "markdown",
   "id": "06ee9ad9",
   "metadata": {},
   "source": [
    "## Question 6\n",
    "Implement a class named HeadingParser that can be used to parse an HTML\n",
    "document, and retrieve and print all the headings in the document. You should\n",
    "implement your class as a subclass of HTMLParser, defined in Standard Library\n",
    "module html.parser. When fed a string containing HTML code, your class should\n",
    "print the headings, one per line and in the order in which they appear in the\n",
    "document. Each heading should be indented as follows: an h1 heading should have indentation 0, and h2 heading should have indentation 1, etc. Test your\n",
    "implementation using w3c.html.\n",
    "\n",
    "> infile = open('w3c.html')\n",
    "\n",
    "> content = infile.read()\n",
    "\n",
    "> infile.close()\n",
    "\n",
    "> hp = HeadingParser()\n",
    "\n",
    "> hp.feed(content)\n",
    "\n",
    "W3C Mission\n",
    "\n",
    " Principles"
   ]
  },
  {
   "cell_type": "code",
   "execution_count": 308,
   "id": "3099887b",
   "metadata": {},
   "outputs": [
    {
     "name": "stdout",
     "output_type": "stream",
     "text": [
      "W3C Mission\n",
      "  Principles\n"
     ]
    }
   ],
   "source": [
    "from html.parser import HTMLParser\n",
    "value=0\n",
    "class HeadingParser(HTMLParser):\n",
    "    \n",
    "    def handle_starttag(self, tag, attrs):\n",
    "        \n",
    "        if tag=='h1':\n",
    "            global value\n",
    "            value=1\n",
    "       \n",
    "        if tag=='h2':\n",
    "            \n",
    "            value=2\n",
    "        if tag=='h3':\n",
    "            \n",
    "            value=3\n",
    "        if tag=='h4':\n",
    "            \n",
    "            value=4\n",
    "        if tag=='h5':\n",
    "            \n",
    "            value=5\n",
    "        if tag=='h6':\n",
    "            \n",
    "            value=6\n",
    "            \n",
    "            \n",
    "            \n",
    "                \n",
    "            \n",
    "\n",
    "    def handle_endtag(self, tag):\n",
    "        if tag =='h1' or tag=='h2' or tag=='h3' or tag=='h4' or tag=='h5' or tag=='h6':\n",
    "            global value\n",
    "            value=0\n",
    "            \n",
    "            \n",
    "\n",
    "    def handle_data(self, data):\n",
    "        if value==1:\n",
    "            print(data)\n",
    "        elif value>=2:\n",
    "            print(\" \"*(value-1),data)\n",
    "        \n",
    "   \n",
    "infile = open('w3c.html')\n",
    "content = infile.read()\n",
    "infile.close()\n",
    "hp = HeadingParser()\n",
    "hp.feed(content)\n",
    "\n",
    "#reference\n",
    "#https://stackoverflow.com/questions/11804148/parsing-html-to-get-text-inside-an-element"
   ]
  },
  {
   "cell_type": "markdown",
   "id": "e085e05a",
   "metadata": {},
   "source": [
    "## Question 7\n",
    "Implement recursive function webdir() that takes as input: a URL (as a string) and\n",
    "non-negative integers depth and indent. Your function should visit every web\n",
    "page reachable from the starting URL web page in depth clicks or less, and print\n",
    "each web page's URL. As shown below, indentation, specified by indent, should\n",
    "be used to indicate the depth of a URL.\n",
    ">\n",
    "webdir('http://reed.cs.depaul.edu/lperkovic/csc242/test1.html'\n",
    ", 2, 0)\n",
    "\n",
    "http://reed.cs.depaul.edu/lperkovic/csc242/test1.html\n",
    "\n",
    " http://reed.cs.depaul.edu/lperkovic/csc242/test2.html\n",
    " \n",
    " http://reed.cs.depaul.edu/lperkovic/csc242/test4.html\n",
    " \n",
    " http://reed.cs.depaul.edu/lperkovic/csc242/test3.html\n",
    " \n",
    " http://reed.cs.depaul.edu/lperkovic/csc242/test4.html"
   ]
  },
  {
   "cell_type": "code",
   "execution_count": 10,
   "id": "16e1da31",
   "metadata": {},
   "outputs": [
    {
     "name": "stdout",
     "output_type": "stream",
     "text": [
      "http://reed.cs.depaul.edu/lperkovic/test1.html\n",
      "http://reed.cs.depaul.edu/lperkovic/test2.html\n",
      "http://reed.cs.depaul.edu/lperkovic/test4.html\n",
      "http://reed.cs.depaul.edu/lperkovic/test3.html\n",
      "http://reed.cs.depaul.edu/lperkovic/test4.html\n"
     ]
    }
   ],
   "source": [
    "from urllib.parse import urljoin\n",
    "from html.parser import HTMLParser\n",
    "from urllib.request import urlopen\n",
    "global_depth=0\n",
    "global_indent=0\n",
    "global_ctr=0\n",
    "site_ctr=0\n",
    "\n",
    "\n",
    "def webdir(url,depth,indent) :\n",
    "        global global_ctr\n",
    "        if(global_ctr==0):\n",
    "            print(url)\n",
    "        global_ctr=global_ctr+1\n",
    "        global global_depth\n",
    "        global_depth=depth\n",
    "        global global_indent\n",
    "        global_indent=indent\n",
    "        if global_depth>=-1:\n",
    "            resource = urlopen(url)\n",
    "            content = resource.read().decode()\n",
    "            FP = FileParser(url)\n",
    "            FP.feed(content)\n",
    "            \n",
    "        \n",
    "    \n",
    "       \n",
    "        \n",
    "        \n",
    "                        \n",
    "class FileParser(HTMLParser):\n",
    "    \n",
    "    def __init__(self, url):\n",
    "        \n",
    "        HTMLParser.__init__(self)\n",
    "        self.url = url\n",
    "\n",
    "    \n",
    "    def handle_starttag(self, tag, attrs):\n",
    "        'collects hyperlink URLs in their absolute format'\n",
    "        \n",
    "        if tag == 'a':\n",
    "            for attr in attrs:\n",
    "                if attr[0] == 'href':\n",
    "                    # construct absolute URL\n",
    "                    absolute = urljoin(self.url, attr[1])\n",
    "                    if absolute[:4] == 'http': # collect HTTP URLs\n",
    "                               \n",
    "                                if global_indent==0:\n",
    "                                    print(absolute)\n",
    "                                else:\n",
    "                                    print(\" \"*global_indent,absolute)\n",
    "                                \n",
    "                        \n",
    "                                webdir(absolute,global_depth-1,global_indent)\n",
    "                        \n",
    "    \n",
    "\n",
    "\n",
    "          \n",
    "    \n",
    "        \n",
    "               \n",
    "\n",
    "\n",
    "\n",
    "url = 'http://reed.cs.depaul.edu/lperkovic/test1.html'\n",
    "depth=2\n",
    "webdir(url,depth,0)\n",
    "\n",
    "\n",
    "\n"
   ]
  },
  {
   "cell_type": "markdown",
   "id": "72dce2fb",
   "metadata": {},
   "source": [
    "## Question 8\n",
    "\n",
    "Write SQL queries on the below database table that return:\n",
    "\n",
    "a) All the temperature data.\n",
    "\n",
    "b) All the cities, but without repetition.\n",
    "\n",
    "c) All the records for India.\n",
    "\n",
    "d) All the Fall records.\n",
    "\n",
    "e) The city, country, and season for which the average rainfall is between 200\n",
    "and 400 millimeters.\n",
    "\n",
    "f) The city and country for which the average Fall temperature is above 20\n",
    "degrees, in increasing temperature order.\n",
    "\n",
    "g) The total annual rainfall for Cairo.\n",
    "\n",
    "h) The total rainfall for each season.\n",
    "\n",
    "City Country Season Temperature\n",
    "\n",
    "(C)\n",
    "Rainfall\n",
    "\n",
    "(mm)\n",
    "\n",
    "Mumbai India Winter 24.8 5.9\n",
    "\n",
    "Mumbai India Spring 28.4 16.2\n",
    "\n",
    "Mumbai India Summer 27.9 1549.4\n",
    "\n",
    "Mumbai India Fall 27.6 346.0\n",
    "\n",
    "London United Kingdom Winter 4.2 207.7\n",
    "\n",
    "London United Kingdom Spring 8.3 169.6\n",
    "\n",
    "London United Kingdom Summer 15.7 157.0\n",
    "\n",
    "London United Kingdom Fall 10.4 218.5\n",
    "\n",
    "Cairo Egypt Winter 13.6 16.5\n",
    "\n",
    "Cairo Egypt Spring 20.7 6.5\n",
    "\n",
    "Cairo Egypt Summer 27.7 0.1\n",
    "\n",
    "Cairo Egypt Fall 22.2 4.5 \n",
    "\n"
   ]
  },
  {
   "cell_type": "code",
   "execution_count": 153,
   "id": "238a8ff5",
   "metadata": {},
   "outputs": [
    {
     "data": {
      "text/plain": [
       "<sqlite3.Cursor at 0x276b3f41110>"
      ]
     },
     "execution_count": 153,
     "metadata": {},
     "output_type": "execute_result"
    }
   ],
   "source": [
    "import sqlite3\n",
    "connections = sqlite3.connect('web.db')\n",
    "c = connections.cursor()\n",
    "c.execute(\"CREATE TABLE temperature_rainfall(City varchar(25),Country varchar(15),Season varchar(15),[Temperature(c)] real,[Rainfall (mm)] real)\")\n",
    "c.execute(\"INSERT INTO temperature_rainfall VALUES ('Mumbai','India','Winter',24.8,5.9),('Mumbai','India','Spring',28.4,16.2),('Mumbai','India','Summer',27.9,1549.4),('Mumbai','India','Fall',27.6,346),('London','United Kingdom','Winter',4.2,207.7),('London','United Kingdom','Spring',8.3,169.6),('London','United Kingdom','Summer',15.7,157),('London','United Kingdom','Fall',10.4,218.5),('Cairo','Egypt','Winter',13.6,16.5),('Cairo','Egypt','Spring',20.7,6.5),('Cairo','Egypt','Summer',27.7,0.1),('Cairo','Egypt','Fall',22.2,4.5)\")\n"
   ]
  },
  {
   "cell_type": "markdown",
   "id": "b41a37e5",
   "metadata": {},
   "source": [
    "## a) All the temperature data."
   ]
  },
  {
   "cell_type": "code",
   "execution_count": 165,
   "id": "1b4970d5",
   "metadata": {},
   "outputs": [
    {
     "name": "stdout",
     "output_type": "stream",
     "text": [
      "('Mumbai', 'India', 'Winter', 24.8, 5.9)\n",
      "('Mumbai', 'India', 'Spring', 28.4, 16.2)\n",
      "('Mumbai', 'India', 'Summer', 27.9, 1549.4)\n",
      "('Mumbai', 'India', 'Fall', 27.6, 346.0)\n",
      "('London', 'United Kingdom', 'Winter', 4.2, 207.7)\n",
      "('London', 'United Kingdom', 'Spring', 8.3, 169.6)\n",
      "('London', 'United Kingdom', 'Summer', 15.7, 157.0)\n",
      "('London', 'United Kingdom', 'Fall', 10.4, 218.5)\n",
      "('Cairo', 'Egypt', 'Winter', 13.6, 16.5)\n",
      "('Cairo', 'Egypt', 'Spring', 20.7, 6.5)\n",
      "('Cairo', 'Egypt', 'Summer', 27.7, 0.1)\n",
      "('Cairo', 'Egypt', 'Fall', 22.2, 4.5)\n"
     ]
    }
   ],
   "source": [
    "c.execute(\"SELECT * FROM temperature_rainfall\")\n",
    "for record in c:\n",
    "    print(record)"
   ]
  },
  {
   "cell_type": "markdown",
   "id": "61825e80",
   "metadata": {},
   "source": [
    "## b) All the cities, but without repetition."
   ]
  },
  {
   "cell_type": "code",
   "execution_count": 163,
   "id": "50c3fd14",
   "metadata": {},
   "outputs": [
    {
     "data": {
      "text/plain": [
       "[('Mumbai',), ('London',), ('Cairo',)]"
      ]
     },
     "execution_count": 163,
     "metadata": {},
     "output_type": "execute_result"
    }
   ],
   "source": [
    "c.execute(\"SELECT DISTINCT(City) FROM temperature_rainfall\")\n",
    "c.fetchall()"
   ]
  },
  {
   "cell_type": "markdown",
   "id": "0b0746c7",
   "metadata": {},
   "source": [
    "## c) All the records for India.\n"
   ]
  },
  {
   "cell_type": "code",
   "execution_count": 164,
   "id": "5e3bfba5",
   "metadata": {},
   "outputs": [
    {
     "name": "stdout",
     "output_type": "stream",
     "text": [
      "('Mumbai', 'India', 'Winter', 24.8, 5.9)\n",
      "('Mumbai', 'India', 'Spring', 28.4, 16.2)\n",
      "('Mumbai', 'India', 'Summer', 27.9, 1549.4)\n",
      "('Mumbai', 'India', 'Fall', 27.6, 346.0)\n"
     ]
    }
   ],
   "source": [
    "c.execute(\"SELECT* FROM temperature_rainfall WHERE Country='India'\")\n",
    "for record in c:\n",
    "    print(record)"
   ]
  },
  {
   "cell_type": "markdown",
   "id": "083de553",
   "metadata": {},
   "source": [
    "## d) All the Fall records."
   ]
  },
  {
   "cell_type": "code",
   "execution_count": 161,
   "id": "b04c55f1",
   "metadata": {},
   "outputs": [
    {
     "name": "stdout",
     "output_type": "stream",
     "text": [
      "('Mumbai', 'India', 'Fall', 27.6, 346.0)\n",
      "('London', 'United Kingdom', 'Fall', 10.4, 218.5)\n",
      "('Cairo', 'Egypt', 'Fall', 22.2, 4.5)\n"
     ]
    }
   ],
   "source": [
    "c.execute(\"SELECT* FROM temperature_rainfall WHERE Season='Fall'\")\n",
    "for record in c:\n",
    "    print(record)"
   ]
  },
  {
   "cell_type": "markdown",
   "id": "651f6fdf",
   "metadata": {},
   "source": [
    "## e) The city, country, and season for which the average rainfall is between 200 and 400 millimeters."
   ]
  },
  {
   "cell_type": "code",
   "execution_count": 166,
   "id": "b12654f8",
   "metadata": {},
   "outputs": [
    {
     "name": "stdout",
     "output_type": "stream",
     "text": [
      "('Mumbai', 'India', 'Fall', 27.6, 346.0)\n",
      "('London', 'United Kingdom', 'Winter', 4.2, 207.7)\n",
      "('London', 'United Kingdom', 'Fall', 10.4, 218.5)\n"
     ]
    }
   ],
   "source": [
    "c.execute(\"SELECT* FROM temperature_rainfall WHERE [Rainfall (mm)] BETWEEN 200 AND 400\")\n",
    "for record in c:\n",
    "    print(record)"
   ]
  },
  {
   "cell_type": "markdown",
   "id": "4bc15e24",
   "metadata": {},
   "source": [
    "## f) The city and country for which the average Fall temperature is above 20 degrees, in increasing temperature order.\n"
   ]
  },
  {
   "cell_type": "code",
   "execution_count": 167,
   "id": "17a88f64",
   "metadata": {},
   "outputs": [
    {
     "name": "stdout",
     "output_type": "stream",
     "text": [
      "('Cairo', 'Egypt', 'Fall', 22.2, 4.5)\n",
      "('Mumbai', 'India', 'Fall', 27.6, 346.0)\n"
     ]
    }
   ],
   "source": [
    "c.execute(\"SELECT* FROM temperature_rainfall WHERE Season='Fall' AND [Temperature(c)]>20 ORDER BY [Temperature(c)]\")\n",
    "for record in c:\n",
    "    print(record)"
   ]
  },
  {
   "cell_type": "markdown",
   "id": "46fa1309",
   "metadata": {},
   "source": [
    "## g) The total annual rainfall for Cairo."
   ]
  },
  {
   "cell_type": "code",
   "execution_count": 172,
   "id": "178c3ef0",
   "metadata": {},
   "outputs": [
    {
     "name": "stdout",
     "output_type": "stream",
     "text": [
      "(27.6,)\n"
     ]
    }
   ],
   "source": [
    "c.execute(\"SELECT SUM([Rainfall (mm)]) FROM temperature_rainfall WHERE City='Cairo'\")\n",
    "for record in c:\n",
    "    print(record)"
   ]
  },
  {
   "cell_type": "markdown",
   "id": "1599d048",
   "metadata": {},
   "source": [
    "## h) The total rainfall for each season."
   ]
  },
  {
   "cell_type": "code",
   "execution_count": 173,
   "id": "985bcbb6",
   "metadata": {},
   "outputs": [
    {
     "name": "stdout",
     "output_type": "stream",
     "text": [
      "('Fall', 569.0)\n",
      "('Spring', 192.29999999999998)\n",
      "('Summer', 1706.5)\n",
      "('Winter', 230.1)\n"
     ]
    }
   ],
   "source": [
    "c.execute(\"SELECT Season,SUM([Rainfall (mm)]) FROM temperature_rainfall GROUP BY Season\")\n",
    "for record in c:\n",
    "    print(record)"
   ]
  },
  {
   "cell_type": "markdown",
   "id": "aa0430cc",
   "metadata": {},
   "source": [
    "## Question 9\n",
    " Suppose list words is defined as follows: \n",
    "\n",
    "> words = ['The', 'quick', 'brown', 'fox', 'jumps', 'over',\n",
    "'the', 'lazy', 'dog']\n",
    "\n",
    "Write list comprehension expressions that use list words and generate the following\n",
    "lists:\n",
    "\n",
    "a) ['THE', 'QUICK', 'BROWN', 'FOX', 'JUMPS', 'OVER', 'THE',\n",
    "'LAZY', 'DOG']\n",
    "\n",
    "b) ['the', 'quick', 'brown', 'fox', 'jumps', 'over', 'the',\n",
    "'lazy', 'dog']\n",
    "\n",
    "c) [3, 5, 5, 3, 5, 4, 3, 4, 3] (the list of lengths of words in list\n",
    "words).\n",
    "\n",
    "d) [['THE', 'the', 3], ['QUICK', 'quick', 5], ['BROWN',\n",
    "'brown', 5], ['FOX', 'fox', 3], ['JUMPS', 'jumps', 5],\n",
    "['OVER', 'over', 4], ['THE', 'the', 3], ['LAZY', 'lazy',\n",
    "4], ['DOG', 'dog', 3]] (the list containing a list for every word of list\n",
    "words, where each list contains the word in uppercase and lowercase and the\n",
    "length of the word.)\n",
    "\n",
    "e) ['The', 'quick', 'brown', 'fox', 'jumps', 'over', 'the',\n",
    "'lazy', 'dog'] (the list of words in list words containing 4 or more\n",
    "characters.)"
   ]
  },
  {
   "cell_type": "code",
   "execution_count": 31,
   "id": "d5223111",
   "metadata": {},
   "outputs": [
    {
     "name": "stdout",
     "output_type": "stream",
     "text": [
      "A)\n",
      " ['THE', 'QUICK', 'BROWN', 'FOX', 'JUMPS', 'OVER', 'THE', 'LAZY', 'DOG']\n",
      "B)\n",
      " ['the', 'quick', 'brown', 'fox', 'jumps', 'over', 'the', 'lazy', 'dog']\n",
      "C)\n",
      " [3, 5, 5, 3, 5, 4, 3, 4, 3]\n",
      "D)\n",
      " [['THE', 'the', 3], ['QUICK', 'quick', 5], ['BROWN', 'brown', 5], ['FOX', 'fox', 3], ['JUMPS', 'jumps', 5], ['OVER', 'over', 4], ['THE', 'the', 3], ['LAZY', 'lazy', 4], ['DOG', 'dog', 3]]\n",
      "E)\n",
      " ['quick', 'brown', 'jumps', 'over', 'lazy']\n"
     ]
    }
   ],
   "source": [
    "words = ['The', 'quick', 'brown', 'fox', 'jumps', 'over', 'the', 'lazy', 'dog']\n",
    "\n",
    "uppercase_words=[];\n",
    "lowercase_words=[];\n",
    "length_words=[];\n",
    "combined_list=[];\n",
    "morethan4=[];\n",
    "\n",
    "for i in range(len(words)):\n",
    "    uppercase_words.append(words[i].upper());\n",
    "    lowercase_words.append(words[i].lower());\n",
    "    length_words.append(len(words[i]));\n",
    "    combined_list.append([uppercase_words[i],lowercase_words[i],length_words[i]]);\n",
    "    if(length_words[i]>=4):\n",
    "        morethan4.append(words[i]);\n",
    "\n",
    "print('A)\\n',uppercase_words);        \n",
    "print('B)\\n',lowercase_words);    \n",
    "print('C)\\n',length_words);\n",
    "print('D)\\n',combined_list);\n",
    "print('E)\\n',morethan4);\n",
    "\n",
    "#reference\n",
    "#https://blog.finxter.com/python-list-of-lists/\n"
   ]
  }
 ],
 "metadata": {
  "kernelspec": {
   "display_name": "Python 3 (ipykernel)",
   "language": "python",
   "name": "python3"
  },
  "language_info": {
   "codemirror_mode": {
    "name": "ipython",
    "version": 3
   },
   "file_extension": ".py",
   "mimetype": "text/x-python",
   "name": "python",
   "nbconvert_exporter": "python",
   "pygments_lexer": "ipython3",
   "version": "3.9.7"
  }
 },
 "nbformat": 4,
 "nbformat_minor": 5
}
